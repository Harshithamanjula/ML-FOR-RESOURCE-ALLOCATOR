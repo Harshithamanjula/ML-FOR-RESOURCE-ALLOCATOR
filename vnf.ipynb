{
  "nbformat": 4,
  "nbformat_minor": 0,
  "metadata": {
    "colab": {
      "name": "vnf.ipynb",
      "provenance": [],
      "authorship_tag": "ABX9TyPFRkqk+N8/y1tL/qQWj4vn",
      "include_colab_link": true
    },
    "kernelspec": {
      "name": "python3",
      "display_name": "Python 3"
    },
    "language_info": {
      "name": "python"
    }
  },
  "cells": [
    {
      "cell_type": "markdown",
      "metadata": {
        "id": "view-in-github",
        "colab_type": "text"
      },
      "source": [
        "<a href=\"https://colab.research.google.com/github/Harshithamanjula/ML-FOR-RESOURCE-ALLOCATOR/blob/main/vnf.ipynb\" target=\"_parent\"><img src=\"https://colab.research.google.com/assets/colab-badge.svg\" alt=\"Open In Colab\"/></a>"
      ]
    },
    {
      "cell_type": "code",
      "metadata": {
        "colab": {
          "base_uri": "https://localhost:8080/"
        },
        "id": "WFpu7Y3V96fR",
        "outputId": "dfca0ff2-d05b-4868-98d4-92de047b1fc3"
      },
      "source": [
        "!git clone https://github.com/CN-UPB/ml-for-resource-allocation\n",
        "%cd ml-for-resource-allocation"
      ],
      "execution_count": 1,
      "outputs": [
        {
          "output_type": "stream",
          "text": [
            "Cloning into 'ml-for-resource-allocation'...\n",
            "remote: Enumerating objects: 1195, done.\u001b[K\n",
            "remote: Counting objects: 100% (1195/1195), done.\u001b[K\n",
            "remote: Compressing objects: 100% (388/388), done.\u001b[K\n",
            "remote: Total 1195 (delta 962), reused 1029 (delta 801), pack-reused 0\u001b[K\n",
            "Receiving objects: 100% (1195/1195), 8.60 MiB | 19.31 MiB/s, done.\n",
            "Resolving deltas: 100% (962/962), done.\n",
            "/content/ml-for-resource-allocation\n"
          ],
          "name": "stdout"
        }
      ]
    },
    {
      "cell_type": "code",
      "metadata": {
        "id": "aOHbtVDOExjl"
      },
      "source": [
        "import warnings\n",
        "warnings.simplefilter(action='ignore', category=FutureWarning)\n",
        "\n",
        "import os\n",
        "import pandas as pd\n",
        "import numpy as np\n",
        "import matplotlib.pyplot as plt\n",
        "import seaborn as sns\n",
        "import joblib\n",
        "import time\n",
        "\n",
        "from sklearn.base import BaseEstimator\n",
        "from sklearn.model_selection import KFold, train_test_split, cross_val_score, GridSearchCV\n",
        "from sklearn.linear_model import LinearRegression, Ridge\n",
        "from sklearn.ensemble import RandomForestRegressor, GradientBoostingRegressor\n",
        "from sklearn.svm import SVR\n",
        "from sklearn.neural_network import MLPRegressor\n",
        "from sklearn.preprocessing import LabelEncoder, StandardScaler, PolynomialFeatures\n",
        "from sklearn.model_selection import train_test_split\n",
        "from sklearn.preprocessing import MinMaxScaler\n",
        "from sklearn.metrics import mean_squared_error\n",
        "\n",
        "sns.set(font_scale=3, style='white')"
      ],
      "execution_count": 2,
      "outputs": []
    },
    {
      "cell_type": "code",
      "metadata": {
        "id": "uj7cPlRsExlB"
      },
      "source": [
        "class FixedModel(BaseEstimator):\n",
        "    \"\"\"\n",
        "    sklearn model of the fixed model, \n",
        "    always allocating/predicting a fixed, pre-defined amount of resources.\n",
        "    For use in sklearn functions like k-fold CV\n",
        "    \"\"\"\n",
        "    def __init__(self, fixed_value):\n",
        "        self.fixed_value = fixed_value\n",
        "        \n",
        "    def fit(self, X, y):\n",
        "        \"\"\"There's nothing to fit here\"\"\"\n",
        "        return self\n",
        "    \n",
        "    def predict(self, X):\n",
        "        \"\"\"Always 'predict' the specified fixed value\"\"\"\n",
        "        n_samples = X.shape[0]\n",
        "        return [self.fixed_value for _ in range(n_samples)]"
      ],
      "execution_count": 3,
      "outputs": []
    },
    {
      "cell_type": "code",
      "metadata": {
        "id": "t6bledGwI0R6"
      },
      "source": [
        "# function for processing and simplifying the dataset\n",
        "def select_and_rename(df, mapping):\n",
        "    \"\"\"\n",
        "    Helper: Selects columns of df using the keys of the mapping dict.\n",
        "    It renames the columns to the values of the mappings dict.\n",
        "    \"\"\"\n",
        "    # select subset of columns\n",
        "    dff = df[list(mapping.keys())]\n",
        "    # rename \n",
        "    for k, v in mapping.items():\n",
        "        dff.rename(columns={k: v}, inplace=True)\n",
        "    return dff\n",
        "\n",
        "def replaceSize(df):\n",
        "    df[\"size\"] = df[\"size\"].str.replace(\"ab -c 1 -t 60 -n 99999999 -e /tngbench_share/ab_dist.csv -s 60 -k -i http://20.0.0.254:8888/\", \"small\")\n",
        "    df[\"size\"] = df[\"size\"].str.replace(\"ab -c 1 -t 60 -n 99999999 -e /tngbench_share/ab_dist.csv -s 60 -k http://20.0.0.254:8888/bunny.mp4\", \"big\")\n",
        "    df[\"size\"] = df[\"size\"].str.replace(\"ab -c 1 -t 60 -n 99999999 -e /tngbench_share/ab_dist.csv -s 60 -k -i -X 20.0.0.254:3128 http://40.0.0.254:80/\", \"small\")\n",
        "    df[\"size\"] = df[\"size\"].str.replace(\"ab -c 1 -t 60 -n 99999999 -e /tngbench_share/ab_dist.csv -s 60 -k -X 20.0.0.254:3128 http://40.0.0.254:80/bunny.mp4\", \"big\")\n",
        "    return df"
      ],
      "execution_count": 4,
      "outputs": []
    },
    {
      "cell_type": "code",
      "metadata": {
        "colab": {
          "base_uri": "https://localhost:8080/"
        },
        "id": "iQhxBBvmI5Ld",
        "outputId": "0db63584-903a-47a5-9334-ce7538e2759b"
      },
      "source": [
        "# Load data from path\n",
        "web1 = pd.read_csv(\"vnf_data/csv_experiments_WEB1.csv\")\n",
        "web2 = pd.read_csv(\"vnf_data/csv_experiments_WEB2.csv\")\n",
        "web3 = pd.read_csv(\"vnf_data/csv_experiments_WEB3.csv\")\n",
        "\n",
        "# do processing, renaming and selection\n",
        "mapping = {\n",
        "    \"param__func__mp.input__cmd_start\": \"size\",\n",
        "    \"metric__mp.input.vdu01.0__ab_transfer_rate_kbyte_per_second\": \"Max. throughput [kB/s]\",\n",
        "}\n",
        "\n",
        "mapping01 = mapping.copy()\n",
        "mapping01[\"param__func__de.upb.lb-nginx.0.1__cpu_bw\"] = \"CPU\"\n",
        "mapping01[\"param__func__de.upb.lb-nginx.0.1__mem_max\"] = \"Memory\"\n",
        "\n",
        "mapping02 = mapping.copy()\n",
        "mapping02[\"param__func__de.upb.lb-haproxy.0.1__cpu_bw\"] = \"CPU\"\n",
        "mapping02[\"param__func__de.upb.lb-haproxy.0.1__mem_max\"] = \"Memory\"\n",
        "\n",
        "mapping03 = mapping.copy()\n",
        "mapping03[\"param__func__de.upb.px-squid.0.1__cpu_bw\"] = \"CPU\"\n",
        "mapping03[\"param__func__de.upb.px-squid.0.1__mem_max\"] = \"Memory\"\n",
        "\n",
        "web1 = select_and_rename(web1, mapping01)\n",
        "web2 = select_and_rename(web2, mapping02)\n",
        "web3 = select_and_rename(web3, mapping03)\n",
        "\n",
        "web1 = replaceSize(web1)\n",
        "web2 = replaceSize(web2)\n",
        "web3 = replaceSize(web3)"
      ],
      "execution_count": 5,
      "outputs": [
        {
          "output_type": "stream",
          "text": [
            "/usr/local/lib/python3.7/dist-packages/pandas/core/frame.py:4308: SettingWithCopyWarning: \n",
            "A value is trying to be set on a copy of a slice from a DataFrame\n",
            "\n",
            "See the caveats in the documentation: https://pandas.pydata.org/pandas-docs/stable/user_guide/indexing.html#returning-a-view-versus-a-copy\n",
            "  errors=errors,\n"
          ],
          "name": "stderr"
        }
      ]
    },
    {
      "cell_type": "code",
      "metadata": {
        "id": "XGzrFgccI_Cz"
      },
      "source": [
        "# select sub-datasets with small and large flows\n",
        "# and with specific memory\n",
        "mem = 128\n",
        "\n",
        "web1_small = web1.loc[(web1[\"size\"] == \"small\") & (web1[\"Memory\"] == mem)]\n",
        "web1_small = web1_small[[\"Max. throughput [kB/s]\", \"CPU\"]]\n",
        "web1_big = web1.loc[(web1[\"size\"] == \"big\")  & (web1[\"Memory\"] == mem)]\n",
        "web1_big = web1_big[[\"Max. throughput [kB/s]\", \"CPU\"]]\n",
        "\n",
        "web2_small = web2.loc[(web2[\"size\"] == \"small\")  & (web2[\"Memory\"] == mem)]\n",
        "web2_small = web2_small[[\"Max. throughput [kB/s]\", \"CPU\"]]\n",
        "web2_big = web2.loc[(web2[\"size\"] == \"big\")  & (web2[\"Memory\"] == mem)]\n",
        "web2_big = web2_big[[\"Max. throughput [kB/s]\", \"CPU\"]]\n",
        "\n",
        "web3_small = web3.loc[(web3[\"size\"] == \"small\")  & (web3[\"Memory\"] == mem)]\n",
        "web3_small = web3_small[[\"Max. throughput [kB/s]\", \"CPU\"]]\n",
        "web3_big = web3.loc[(web3[\"size\"] == \"big\")  & (web3[\"Memory\"] == mem)]\n",
        "web3_big = web3_big[[\"Max. throughput [kB/s]\", \"CPU\"]]"
      ],
      "execution_count": 6,
      "outputs": []
    },
    {
      "cell_type": "code",
      "metadata": {
        "colab": {
          "base_uri": "https://localhost:8080/"
        },
        "id": "-LEAXbetJLoc",
        "outputId": "28346247-4309-4661-bdcc-b6a4c1c8a7c7"
      },
      "source": [
        "# 20 measurements per CPU config from 0.1 to 1.0\n",
        "web1_small[web1_small[\"CPU\"] == 0.5].shape"
      ],
      "execution_count": 7,
      "outputs": [
        {
          "output_type": "execute_result",
          "data": {
            "text/plain": [
              "(20, 2)"
            ]
          },
          "metadata": {
            "tags": []
          },
          "execution_count": 7
        }
      ]
    },
    {
      "cell_type": "code",
      "metadata": {
        "id": "LW2sWOH1JSto"
      },
      "source": [
        "# add 20 \"measurements\" at 0 CPU and throuhgput\n",
        "num_measures = 20\n",
        "measures = [0 for _ in range(num_measures)]\n",
        "\n",
        "web1_small = web1_small.append(pd.DataFrame({'Max. throughput [kB/s]': measures, 'CPU': measures}), ignore_index=True)\n",
        "web1_big = web1_big.append(pd.DataFrame({'Max. throughput [kB/s]': measures, 'CPU': measures}), ignore_index=True)\n",
        "web2_small = web2_small.append(pd.DataFrame({'Max. throughput [kB/s]': measures, 'CPU': measures}), ignore_index=True)\n",
        "web2_big = web2_big.append(pd.DataFrame({'Max. throughput [kB/s]': measures, 'CPU': measures}), ignore_index=True)\n",
        "web3_small = web3_small.append(pd.DataFrame({'Max. throughput [kB/s]': measures, 'CPU': measures}), ignore_index=True)\n",
        "web3_big = web3_big.append(pd.DataFrame({'Max. throughput [kB/s]': measures, 'CPU': measures}), ignore_index=True)"
      ],
      "execution_count": 8,
      "outputs": []
    },
    {
      "cell_type": "code",
      "metadata": {
        "id": "RyzlFHfbJXFR"
      },
      "source": [
        "# rename\n",
        "nginx = web1_small\n",
        "haproxy = web2_small\n",
        "squid = web3_small"
      ],
      "execution_count": 9,
      "outputs": []
    },
    {
      "cell_type": "code",
      "metadata": {
        "colab": {
          "base_uri": "https://localhost:8080/",
          "height": 298
        },
        "id": "QxIJOvOnJbdz",
        "outputId": "98eab28e-6f30-41d0-d076-a9f22e6e38a0"
      },
      "source": [
        "# proper plotting of VNF data for paper\n",
        "# only use data with small flows\n",
        "def plot_vnf_data():\n",
        "    sns.set(font_scale=1.5, style='white')\n",
        "    fig, ax = plt.subplots()\n",
        "    plt.scatter(nginx['Max. throughput [kB/s]'], nginx['CPU'], label='Nginx', marker='.')\n",
        "    plt.scatter(haproxy['Max. throughput [kB/s]'], haproxy['CPU'], label='HAProxy', marker='+')\n",
        "    plt.scatter(squid['Max. throughput [kB/s]'], squid['CPU'], label='Squid', marker='x')\n",
        "\n",
        "    # labels\n",
        "    ax.set_xlabel('Max. throughput [kB/s]')\n",
        "    ax.set_ylabel('CPU')\n",
        "    plt.legend()\n",
        "    \n",
        "    fig.savefig(f'plots/web_vnf_data.pdf', bbox_inches='tight')\n",
        "    \n",
        "plot_vnf_data()"
      ],
      "execution_count": 10,
      "outputs": [
        {
          "output_type": "display_data",
          "data": {
            "image/png": "[encoded data removed]",
            "text/plain": [
              "<Figure size 432x288 with 1 Axes>"
            ]
          },
          "metadata": {
            "tags": []
          }
        }
      ]
    },
    {
      "cell_type": "code",
      "metadata": {
        "id": "J9yGVzjIJekm"
      },
      "source": [
        "def cross_validation_rmse(model, X, y, vnf_name, k=5, save_model=False):\n",
        "    \"\"\"Do k-fold CV and return the avg RMSE on the validation set. Train and save the model.\"\"\"\n",
        "    scores = cross_val_score(model, X, y, scoring=\"neg_mean_squared_error\", cv=k)\n",
        "    rmse = np.sqrt(-scores)\n",
        "    name = type(model).__name__\n",
        "    print(f\"CV RMSE of {name}: {rmse.mean()} (+/-{rmse.std()})\")  \n",
        "    if save_model:\n",
        "        model.fit(X, y)\n",
        "        joblib.dump(model, f'ml_models/{vnf_name}/{name}.joblib')\n",
        "    return rmse \n",
        "\n",
        "def tune_hyperparams(model, X, y, params):\n",
        "    \"\"\"Do grid search CV for hyperparam tuning and return CV RMSE\"\"\"\n",
        "    grid_search = GridSearchCV(model, params, cv=5, scoring=\"neg_mean_squared_error\")\n",
        "    grid_search.fit(X, y)   \n",
        "    return grid_search.best_estimator_\n",
        "\n",
        "def barplot_rmse(scores, labels, data_name):\n",
        "    \"\"\"bar plot comparing the RMSE of the different algorithms\"\"\"\n",
        "    sns.set(font_scale=3, style='white')\n",
        "    assert len(scores) == len(labels)\n",
        "    \n",
        "    # preparation\n",
        "    rmse_mean = [s.mean() for s in scores]\n",
        "    rmse_std = [s.std() for s in scores]\n",
        "    x = np.arange(len(labels))\n",
        "\n",
        "    # plot\n",
        "    fig, ax = plt.subplots(figsize = (8, 6))\n",
        "    plt.barh(x, rmse_mean, color='grey', xerr=rmse_std, capsize=5)\n",
        "\n",
        "    # labels\n",
        "    ax.set_xlabel('RMSE')\n",
        "    ax.set_yticks(x)\n",
        "    ax.set_yticklabels(labels)\n",
        "\n",
        "    fig.savefig(f'plots/{data_name}_rmse.pdf', bbox_inches='tight')"
      ],
      "execution_count": 11,
      "outputs": []
    },
    {
      "cell_type": "code",
      "metadata": {
        "id": "R5jYOrEeJpnB"
      },
      "source": [
        "def train_eval_models(X, y, vnf_name, tune_params=False):\n",
        "    \"\"\"Create, tune, eval, and return all ML models\"\"\"\n",
        "    # prepare models\n",
        "    labels = ['Linear', 'Ridge', 'SVR', 'Forest', 'Boosting', 'MLP', 'Fixed']\n",
        "    models = [LinearRegression(), Ridge(), SVR(), RandomForestRegressor(), \n",
        "              GradientBoostingRegressor(), MLPRegressor(max_iter=1500), \n",
        "              FixedModel(fixed_value=0.8)]\n",
        "    \n",
        "    # params for tuning\n",
        "    params_ridge = {'alpha': [0.1, 1, 10]}\n",
        "    params_svr = {'kernel': ['linear', 'poly', 'rbf'], 'C': [1, 10, 100], \n",
        "                  'epsilon': [0.001, 0.01, 0.1]}\n",
        "    params_forest = {'n_estimators': [10, 100, 200]}\n",
        "    params_boosting = {'learning_rate': [0.01, 0.1, 0.3], 'n_estimators': [10, 100, 200]}\n",
        "    params_mlp = {'hidden_layer_sizes': [(64,), (128,), (256)], 'alpha': [0.001, 0.0001, 0.00001],\n",
        "                  'learning_rate_init': [0.01, 0.001, 0.0001]}\n",
        "    params = [{}, params_ridge, params_svr, params_forest, params_boosting, params_mlp, {}]\n",
        "    \n",
        "    # tune, train, eval\n",
        "    if tune_params:\n",
        "        models = [tune_hyperparams(models[i], X, y, params[i]) for i in range(len(models))]\n",
        "    rmse = [cross_validation_rmse(model, X, y, vnf_name, save_model=True) for model in models]\n",
        "    \n",
        "    # plot\n",
        "    if tune_params:\n",
        "        barplot_rmse(rmse, labels, f'{vnf_name}_tuned')\n",
        "    else:\n",
        "        barplot_rmse(rmse, labels, f'{vnf_name}_default')\n",
        "        \n",
        "    return models"
      ],
      "execution_count": 12,
      "outputs": []
    },
    {
      "cell_type": "code",
      "metadata": {
        "id": "GFuZSK5bJuoU"
      },
      "source": [
        "def prepare_data(data, vnf_name):\n",
        "    \"\"\"Split return data\"\"\"\n",
        "    X = data[['Max. throughput [kB/s]']]\n",
        "    y = data['CPU']\n",
        "    X = X.fillna(X.median())\n",
        "\n",
        "    scaler = MinMaxScaler()\n",
        "    scaler.fit(X)\n",
        "    os.makedirs(f'ml_models/{vnf_name}', exist_ok=True)\n",
        "    joblib.dump(scaler, f'ml_models/{vnf_name}/scaler.joblib')\n",
        "    \n",
        "    return X, y, scaler"
      ],
      "execution_count": 13,
      "outputs": []
    },
    {
      "cell_type": "code",
      "metadata": {
        "id": "lcliHVydJ0Ou"
      },
      "source": [
        "def predict_plot_all(models, scaler, X, y, vnf_name):\n",
        "    \"\"\"Given a list of models, fit all to the data, save model, and plot their predictions\"\"\"\n",
        "    sns.set(font_scale=1.2, style='white')\n",
        "    \n",
        "    models = [models[0], models[2], models[3], models[6]]\n",
        "    labels = ['Linear', 'SVR', 'Boosting', 'Fixed']\n",
        "    markers = ['x', 'v', '^', '+']\n",
        "    colors = ['blue', 'orange', 'red', 'green']\n",
        "    \n",
        "    fig, ax = plt.subplots()    \n",
        "    plt.scatter(X, y, label='True', marker='o', color='black', s=50)\n",
        "    X = scaler.transform(X)\n",
        "    times = []\n",
        "    for i, model in enumerate(models):\n",
        "        # train model\n",
        "        name = type(model).__name__\n",
        "        model.fit(X, y)\n",
        "        os.makedirs(f'ml_models/{vnf_name}', exist_ok=True)\n",
        "        # predict and plot data\n",
        "        X_plot = pd.DataFrame({'Max. throughput [kB/s]': np.arange(200, 2500, 50)})\n",
        "        X_plot_scaled = scaler.transform(X_plot)\n",
        "        start = time.time()\n",
        "        y_pred = model.predict(X_plot_scaled)\n",
        "        times.append(start - time.time())\n",
        "        plt.scatter(X_plot, y_pred, label=labels[i], marker=markers[i], color=colors[i])\n",
        "    plt.xlabel('Traffic load [kB/s]')\n",
        "    plt.ylabel('CPU')\n",
        "    plt.legend()\n",
        "    # save, avoid cutting off labels\n",
        "    plt.tight_layout()\n",
        "    fig.savefig(f'plots/{vnf_name}_model_comparison.pdf')\n",
        "    \n",
        "    # return prediction times\n",
        "    return times"
      ],
      "execution_count": 14,
      "outputs": []
    },
    {
      "cell_type": "code",
      "metadata": {
        "id": "orFN-sEZJ6gV"
      },
      "source": [
        "def barplot_compare_rmse(scores_default, scores_tuned, labels, data_name):\n",
        "    \"\"\"\n",
        "    bar plot comparing the RMSE of the different algorithms also compare against tuned version of algorithms    \n",
        "    \"\"\"\n",
        "    sns.set(font_scale=1.5, style='white')\n",
        "    assert len(scores_default) == len(scores_tuned) == len(labels)\n",
        "    \n",
        "    x = np.arange(len(labels))\n",
        "    width = 0.35\n",
        "\n",
        "    # plot\n",
        "    fig, ax = plt.subplots(figsize = (8, 5))\n",
        "    \n",
        "    # default\n",
        "    rmse_mean = [s.mean() for s in scores_default]\n",
        "    rmse_std = [s.std() for s in scores_default]\n",
        "    plt.bar(x - width/2, rmse_mean, width, yerr=rmse_std, capsize=5, color='gray', label='Default')\n",
        "    \n",
        "    # same for tuned version\n",
        "    rmse_mean = [s.mean() for s in scores_tuned]\n",
        "    rmse_std = [s.std() for s in scores_tuned]\n",
        "    plt.bar(x + width/2, rmse_mean, width, yerr=rmse_std, capsize=5, color='lightgray', label='Tuned')\n",
        "        \n",
        "    # labels\n",
        "    ax.set_ylabel('RMSE')\n",
        "    ax.set_xticks(x)\n",
        "    ax.set_xticklabels(labels)\n",
        "    ax.legend()\n",
        "    \n",
        "    fig.savefig(f'plots/{data_name}_rmse.pdf', bbox_inches='tight')"
      ],
      "execution_count": 15,
      "outputs": []
    },
    {
      "cell_type": "code",
      "metadata": {
        "id": "8ANBlmXBKErz"
      },
      "source": [
        "def train_tune_eval_models(X, y, vnf_name):\n",
        "    \"\"\"Create, tune, eval, and return all ML models - compare default vs tuned performance\"\"\"\n",
        "    # prepare models and rmse without tuning\n",
        "    labels = ['Linear', 'Ridge', 'SVR', 'Forest', 'Boosting', 'MLP', 'Fixed']\n",
        "    models_default = [LinearRegression(), Ridge(), SVR(), RandomForestRegressor(), \n",
        "              GradientBoostingRegressor(), MLPRegressor(max_iter=1500), \n",
        "              FixedModel(fixed_value=0.8)]\n",
        "    rmse_default = [cross_validation_rmse(model, X, y, vnf_name, save_model=False) for model in models_default]\n",
        "    \n",
        "    # hyperparam tuning\n",
        "    params_ridge = {'alpha': [0.1, 1, 10]}\n",
        "    params_svr = {'kernel': ['poly', 'rbf'], 'C': [1, 10, 100], \n",
        "                  'epsilon': [0.001, 0.01, 0.1]}\n",
        "    params_forest = {'n_estimators': [10, 100, 200]}\n",
        "    params_boosting = {'learning_rate': [0.01, 0.1, 0.3], 'n_estimators': [10, 100, 200]}\n",
        "    params_mlp = {'hidden_layer_sizes': [(64,), (128,), (256)], 'alpha': [0.001, 0.0001, 0.00001],\n",
        "                  'learning_rate_init': [0.01, 0.001, 0.0001]}\n",
        "    params = [{}, params_ridge, params_svr, params_forest, params_boosting, params_mlp, {}]\n",
        "\n",
        "    models_tuned = [tune_hyperparams(models_default[i], X, y, params[i]) for i in range(len(labels))]\n",
        "#     models_tuned = [tune_hyperparams(models_default[i], X, y, {}) for i in range(len(labels))]\n",
        "    rmse_tuned = [cross_validation_rmse(model, X, y, vnf_name, save_model=True) for model in models_tuned]\n",
        "    \n",
        "    # plot and compare\n",
        "    barplot_compare_rmse(rmse_default, rmse_tuned, labels, f'{vnf_name}_default-tuned')\n",
        "        \n",
        "    return models_tuned"
      ],
      "execution_count": 16,
      "outputs": []
    },
    {
      "cell_type": "code",
      "metadata": {
        "colab": {
          "base_uri": "https://localhost:8080/",
          "height": 907
        },
        "id": "IuW2CodGKMGn",
        "outputId": "074fe627-09a8-4268-b99e-7ec4bc166f9b"
      },
      "source": [
        "vnf_name = 'nginx'\n",
        "X, y, scaler = prepare_data(nginx, vnf_name)\n",
        "X_scaled = scaler.transform(X)\n",
        "\n",
        "models = train_tune_eval_models(X_scaled, y, vnf_name)\n",
        "predict_plot_all(models, scaler, X, y, vnf_name)"
      ],
      "execution_count": 17,
      "outputs": [
        {
          "output_type": "stream",
          "text": [
            "CV RMSE of LinearRegression: 0.19651294327683955 (+/-0.0770302015503735)\n",
            "CV RMSE of Ridge: 0.19747963738692514 (+/-0.07374557483743582)\n",
            "CV RMSE of SVR: 0.2833935363150041 (+/-0.1402501263199432)\n",
            "CV RMSE of RandomForestRegressor: 0.15314388643804513 (+/-0.04222162768808111)\n",
            "CV RMSE of GradientBoostingRegressor: 0.15532875692425963 (+/-0.04397880798814986)\n",
            "CV RMSE of MLPRegressor: 0.22734662542540232 (+/-0.06558456595211651)\n",
            "CV RMSE of FixedModel: 0.38153965300099446 (+/-0.21077830340877302)\n",
            "CV RMSE of LinearRegression: 0.19651294327683955 (+/-0.0770302015503735)\n",
            "CV RMSE of Ridge: 0.19747963738692514 (+/-0.07374557483743582)\n",
            "CV RMSE of SVR: 0.14905362142134299 (+/-0.07953243285132203)\n",
            "CV RMSE of RandomForestRegressor: 0.15275223389446427 (+/-0.042297030304432916)\n",
            "CV RMSE of GradientBoostingRegressor: 0.14334186263227305 (+/-0.0379499323771591)\n",
            "CV RMSE of MLPRegressor: 0.22553235696904556 (+/-0.11869446904534306)\n",
            "CV RMSE of FixedModel: 0.38153965300099446 (+/-0.21077830340877302)\n"
          ],
          "name": "stdout"
        },
        {
          "output_type": "execute_result",
          "data": {
            "text/plain": [
              "[-8.177757263183594e-05,\n",
              " -0.00030517578125,\n",
              " -0.0067598819732666016,\n",
              " -1.0013580322265625e-05]"
            ]
          },
          "metadata": {
            "tags": []
          },
          "execution_count": 17
        },
        {
          "output_type": "display_data",
          "data": {
            "image/png": "[encoded data removed]",
            "text/plain": [
              "<Figure size 576x360 with 1 Axes>"
            ]
          },
          "metadata": {
            "tags": []
          }
        },
        {
          "output_type": "display_data",
          "data": {
            "image/png": "[encoded data removed]",
            "text/plain": [
              "<Figure size 432x288 with 1 Axes>"
            ]
          },
          "metadata": {
            "tags": []
          }
        }
      ]
    },
    {
      "cell_type": "code",
      "metadata": {
        "colab": {
          "base_uri": "https://localhost:8080/",
          "height": 231
        },
        "id": "8ditLEIuKwqQ",
        "outputId": "1c20617d-0bc2-409c-c6b0-d4beb968e0e8"
      },
      "source": [
        "vnf_name = 'squid'\n",
        "X, y, scaler = prepare_data(squid, vnf_name)\n",
        "X_scaled = scaler.transform(X)\n",
        "\n",
        "models = train_tune_eval_models(X_scaled, y, vnf_name)\n",
        "predict_plot_all(models, scaler, X, y, vnf_name)"
      ],
      "execution_count": 2,
      "outputs": [
        {
          "output_type": "error",
          "ename": "NameError",
          "evalue": "ignored",
          "traceback": [
            "\u001b[0;31m---------------------------------------------------------------------------\u001b[0m",
            "\u001b[0;31mNameError\u001b[0m                                 Traceback (most recent call last)",
            "\u001b[0;32m<ipython-input-2-9abbffeda232>\u001b[0m in \u001b[0;36m<module>\u001b[0;34m()\u001b[0m\n\u001b[1;32m      1\u001b[0m \u001b[0mvnf_name\u001b[0m \u001b[0;34m=\u001b[0m \u001b[0;34m'squid'\u001b[0m\u001b[0;34m\u001b[0m\u001b[0;34m\u001b[0m\u001b[0m\n\u001b[0;32m----> 2\u001b[0;31m \u001b[0mX\u001b[0m\u001b[0;34m,\u001b[0m \u001b[0my\u001b[0m\u001b[0;34m,\u001b[0m \u001b[0mscaler\u001b[0m \u001b[0;34m=\u001b[0m \u001b[0mprepare_data\u001b[0m\u001b[0;34m(\u001b[0m\u001b[0msquid\u001b[0m\u001b[0;34m,\u001b[0m \u001b[0mvnf_name\u001b[0m\u001b[0;34m)\u001b[0m\u001b[0;34m\u001b[0m\u001b[0;34m\u001b[0m\u001b[0m\n\u001b[0m\u001b[1;32m      3\u001b[0m \u001b[0mX_scaled\u001b[0m \u001b[0;34m=\u001b[0m \u001b[0mscaler\u001b[0m\u001b[0;34m.\u001b[0m\u001b[0mtransform\u001b[0m\u001b[0;34m(\u001b[0m\u001b[0mX\u001b[0m\u001b[0;34m)\u001b[0m\u001b[0;34m\u001b[0m\u001b[0;34m\u001b[0m\u001b[0m\n\u001b[1;32m      4\u001b[0m \u001b[0;34m\u001b[0m\u001b[0m\n\u001b[1;32m      5\u001b[0m \u001b[0mmodels\u001b[0m \u001b[0;34m=\u001b[0m \u001b[0mtrain_tune_eval_models\u001b[0m\u001b[0;34m(\u001b[0m\u001b[0mX_scaled\u001b[0m\u001b[0;34m,\u001b[0m \u001b[0my\u001b[0m\u001b[0;34m,\u001b[0m \u001b[0mvnf_name\u001b[0m\u001b[0;34m)\u001b[0m\u001b[0;34m\u001b[0m\u001b[0;34m\u001b[0m\u001b[0m\n",
            "\u001b[0;31mNameError\u001b[0m: name 'prepare_data' is not defined"
          ]
        }
      ]
    }
  ]
}